{
  "nbformat": 4,
  "nbformat_minor": 0,
  "metadata": {
    "colab": {
      "provenance": []
    },
    "kernelspec": {
      "name": "python3",
      "display_name": "Python 3"
    },
    "language_info": {
      "name": "python"
    }
  },
  "cells": [
    {
      "cell_type": "code",
      "execution_count": null,
      "metadata": {
        "id": "jQFtgi-Wu-Tk"
      },
      "outputs": [],
      "source": [
        "import random\n",
        "import smtplib # symbol message transport portal library"
      ]
    },
    {
      "cell_type": "code",
      "source": [
        "otp=''.join([str(random.randint(0,9)) for i in range(4)])"
      ],
      "metadata": {
        "colab": {
          "base_uri": "https://localhost:8080/",
          "height": 36
        },
        "id": "yEft2HrJvXpY",
        "outputId": "81014ed2-94b2-4d9b-f2d6-a47babd847b6"
      },
      "execution_count": null,
      "outputs": [
        {
          "output_type": "execute_result",
          "data": {
            "text/plain": [
              "'1711'"
            ],
            "application/vnd.google.colaboratory.intrinsic+json": {
              "type": "string"
            }
          },
          "metadata": {},
          "execution_count": 5
        }
      ]
    },
    {
      "cell_type": "code",
      "source": [
        "server=smtplib.SMTP('smtp.gmail.com',587)\n",
        "#adding TLS security \n",
        "server.starttls()\n",
        "#get your app password of gmail ----as directed in the video\n",
        "password='python'\n",
        "server.login('sanagalabhavana49@gmail.com',password)\n",
        "#generate OTP using random.randint() function\n",
        "otp=''.join([str(random.randint(0,9)) for i in range(4)])\n",
        "msg='Hello, Your OTP is '+str(otp)\n",
        "sender='sanagalabhavana49@gmail.com'  #write email id of sender\n",
        "receiver='llally2002@gmail.com' #write email of receiver\n",
        "#sendi\n",
        "server.sendmail(sender,receiver,msg)\n",
        "server.quit()"
      ],
      "metadata": {
        "id": "rah7UYcPA4hv"
      },
      "execution_count": null,
      "outputs": []
    },
    {
      "cell_type": "markdown",
      "source": [
        "   (221, b'2.0.0 closing connection z1sm7656542pfj.113 - gsmtp')\n"
      ],
      "metadata": {
        "id": "rmJcwh2oAFCe"
      }
    }
  ]
}